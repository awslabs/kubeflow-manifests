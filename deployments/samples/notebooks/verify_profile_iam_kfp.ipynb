{
 "cells": [
  {
   "cell_type": "code",
   "execution_count": null,
   "id": "c9f7a697",
   "metadata": {},
   "outputs": [],
   "source": [
    "pip install kfp boto3 --upgrade\n",
    "\n",
    "# Restart the kernel\n",
    "import os\n",
    "os._exit(00)"
   ]
  },
  {
   "cell_type": "code",
   "execution_count": null,
   "id": "2349767a",
   "metadata": {},
   "outputs": [],
   "source": [
    "import kfp\n",
    "client = kfp.Client()\n",
    "\n",
    "def s3_op():\n",
    "   import boto3\n",
    "   s3 = boto3.client(\"s3\", region_name=\"us-west-2\")\n",
    "   resp = s3.list_buckets()\n",
    "   print(resp)\n",
    "\n",
    "s3_op = kfp.components.create_component_from_func(\n",
    "   s3_op, base_image=\"python\", packages_to_install=[\"boto3\"]\n",
    ")\n",
    "\n",
    "def s3_pipeline():\n",
    "   s3_operation = s3_op()\n",
    "\n",
    "client.create_run_from_pipeline_func(\n",
    "   s3_pipeline, arguments={}\n",
    ")"
   ]
  }
 ],
 "metadata": {
  "kernelspec": {
   "display_name": "Python 3",
   "language": "python",
   "name": "python3"
  },
  "language_info": {
   "codemirror_mode": {
    "name": "ipython",
    "version": 3
   },
   "file_extension": ".py",
   "mimetype": "text/x-python",
   "name": "python",
   "nbconvert_exporter": "python",
   "pygments_lexer": "ipython3",
   "version": "3.9.5"
  }
 },
 "nbformat": 4,
 "nbformat_minor": 5
}
