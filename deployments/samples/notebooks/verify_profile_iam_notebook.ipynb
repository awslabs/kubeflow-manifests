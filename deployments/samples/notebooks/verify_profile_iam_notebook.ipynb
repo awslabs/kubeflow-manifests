{
 "cells": [
  {
   "cell_type": "code",
   "execution_count": null,
   "id": "53d02bff-4816-46ba-864e-cecbaf88b93f",
   "metadata": {},
   "outputs": [],
   "source": [
    "!pip install boto3"
   ]
  },
  {
   "cell_type": "code",
   "execution_count": null,
   "id": "5b1d64b2-cd53-4ddd-93e7-61037f38ba85",
   "metadata": {},
   "outputs": [],
   "source": [
    "import boto3\n",
    "import os\n",
    "\n",
    "resp = boto3.client('sts').get_caller_identity()\n",
    "print('Caller role arn matches profile role arn:', resp)\n",
    "\n",
    "region = os.environ.get('REGION', 'us-west-2')\n",
    "s3_client = boto3.client('s3', region_name=region)\n",
    "resp = s3_client.list_buckets()\n",
    "print('S3 Buckets in account:', resp)\n"
   ]
  },
  {
   "cell_type": "code",
   "execution_count": null,
   "id": "1e01d476-6c72-4852-a7a2-5cec46118b2d",
   "metadata": {},
   "outputs": [],
   "source": [
    "for_e2e_test = os.environ.get('FOR_E2E_TEST')\n",
    "bucket_name = os.environ.get('S3_BUCKET_NAME', 'irsa-profile-test-bucket')\n",
    "if for_e2e_test:\n",
    "    if region == 'us-east-1':\n",
    "        s3_client.create_bucket(Bucket=bucket_name)\n",
    "    else:\n",
    "        s3_client.create_bucket(Bucket=bucket_name, CreateBucketConfiguration={'LocationConstraint': region})"
   ]
  }
 ],
 "metadata": {
  "kernelspec": {
   "display_name": "Python 3",
   "language": "python",
   "name": "python3"
  },
  "language_info": {
   "codemirror_mode": {
    "name": "ipython",
    "version": 3
   },
   "file_extension": ".py",
   "mimetype": "text/x-python",
   "name": "python",
   "nbconvert_exporter": "python",
   "pygments_lexer": "ipython3",
   "version": "3.9.5"
  }
 },
 "nbformat": 4,
 "nbformat_minor": 5
}
