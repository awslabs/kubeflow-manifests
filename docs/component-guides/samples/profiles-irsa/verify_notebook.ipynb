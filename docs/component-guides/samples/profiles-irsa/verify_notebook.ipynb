{
 "cells": [
  {
   "cell_type": "code",
   "execution_count": 1,
   "id": "53d02bff-4816-46ba-864e-cecbaf88b93f",
   "metadata": {},
   "outputs": [
    {
     "name": "stdout",
     "output_type": "stream",
     "text": [
      "Collecting boto3\n",
      "  Downloading boto3-1.21.34-py3-none-any.whl (132 kB)\n",
      "\u001b[K     |████████████████████████████████| 132 kB 9.1 MB/s eta 0:00:01\n",
      "\u001b[?25hCollecting botocore<1.25.0,>=1.24.34\n",
      "  Downloading botocore-1.24.34-py3-none-any.whl (8.6 MB)\n",
      "\u001b[K     |████████████████████████████████| 8.6 MB 83.2 MB/s eta 0:00:01\n",
      "\u001b[?25hCollecting s3transfer<0.6.0,>=0.5.0\n",
      "  Downloading s3transfer-0.5.2-py3-none-any.whl (79 kB)\n",
      "\u001b[K     |████████████████████████████████| 79 kB 15.8 MB/s eta 0:00:01\n",
      "\u001b[?25hCollecting jmespath<2.0.0,>=0.7.1\n",
      "  Downloading jmespath-1.0.0-py3-none-any.whl (23 kB)\n",
      "Requirement already satisfied: urllib3<1.27,>=1.25.4 in /opt/conda/lib/python3.8/site-packages (from botocore<1.25.0,>=1.24.34->boto3) (1.26.5)\n",
      "Requirement already satisfied: python-dateutil<3.0.0,>=2.1 in /opt/conda/lib/python3.8/site-packages (from botocore<1.25.0,>=1.24.34->boto3) (2.8.1)\n",
      "Requirement already satisfied: six>=1.5 in /opt/conda/lib/python3.8/site-packages (from python-dateutil<3.0.0,>=2.1->botocore<1.25.0,>=1.24.34->boto3) (1.16.0)\n",
      "Installing collected packages: jmespath, botocore, s3transfer, boto3\n",
      "Successfully installed boto3-1.21.34 botocore-1.24.34 jmespath-1.0.0 s3transfer-0.5.2\n"
     ]
    }
   ],
   "source": [
    "!pip install boto3"
   ]
  },
  {
   "cell_type": "code",
   "execution_count": 28,
   "id": "5b1d64b2-cd53-4ddd-93e7-61037f38ba85",
   "metadata": {},
   "outputs": [
    {
     "data": {
      "text/plain": [
       "{'ResponseMetadata': {'RequestId': 'H983MNQYDKMG6Z68',\n",
       "  'HostId': 'A7vwiXwdkWXMCW3VbQIVm273FrFX2Mdx5zPW28fuBWjGvnzcX07Bula5BXC1DQ8dpeRD1zVKNW4=',\n",
       "  'HTTPStatusCode': 204,\n",
       "  'HTTPHeaders': {'x-amz-id-2': 'A7vwiXwdkWXMCW3VbQIVm273FrFX2Mdx5zPW28fuBWjGvnzcX07Bula5BXC1DQ8dpeRD1zVKNW4=',\n",
       "   'x-amz-request-id': 'H983MNQYDKMG6Z68',\n",
       "   'date': 'Fri, 08 Apr 2022 05:01:34 GMT',\n",
       "   'server': 'AmazonS3'},\n",
       "  'RetryAttempts': 0}}"
      ]
     },
     "execution_count": 28,
     "metadata": {},
     "output_type": "execute_result"
    }
   ],
   "source": [
    "import boto3\n",
    "\n",
    "s3_client = boto3.client('s3', region_name=\"us-west-2\")\n",
    "s3_client.create_bucket(Bucket='irsa-bucket', CreateBucketConfiguration={'LocationConstraint': 'us-west-2'})\n",
    "s3_client.delete_bucket(Bucket='irsa-bucket')"
   ]
  },
  {
   "cell_type": "code",
   "execution_count": null,
   "id": "1e01d476-6c72-4852-a7a2-5cec46118b2d",
   "metadata": {},
   "outputs": [],
   "source": []
  }
 ],
 "metadata": {
  "kernelspec": {
   "display_name": "Python 3",
   "language": "python",
   "name": "python3"
  },
  "language_info": {
   "codemirror_mode": {
    "name": "ipython",
    "version": 3
   },
   "file_extension": ".py",
   "mimetype": "text/x-python",
   "name": "python",
   "nbconvert_exporter": "python",
   "pygments_lexer": "ipython3",
   "version": "3.8.10"
  }
 },
 "nbformat": 4,
 "nbformat_minor": 5
}
